{
 "cells": [
  {
   "cell_type": "markdown",
   "id": "d0f6df97",
   "metadata": {},
   "source": [
    "# Off-Facebook Analysis Report\n",
    "\n",
    "## By Quan Vo\n",
    "\n",
    "### 11/23/22"
   ]
  },
  {
   "cell_type": "markdown",
   "id": "baf4d1b4",
   "metadata": {},
   "source": [
    "This assignment is split into two parts. For the first part, I will be conducting a self-analysis of my digital trace data. The caveat is that this part requires me to use Facebook data and since I don't have a Facebook account, I'll be borrowing my instructor's data for this analysis. As such, this part will be less of a \"self-analysis\" and more of an analysis of someone else's data. The second part of this assignment has me choose two of my favorite albums on Spotify and compare both of them by collecting data of their audio features. Both parts will have me use the data I've collected to plot different graphs and draw conclusions based on my results."
   ]
  },
  {
   "cell_type": "code",
   "execution_count": 112,
   "id": "8261fc9b",
   "metadata": {},
   "outputs": [],
   "source": [
    "import pandas as pd\n",
    "import json\n",
    "import numpy as np\n",
    "from matplotlib import pyplot as plt\n",
    "from scipy import stats\n",
    "from scipy.stats import ttest_ind\n",
    "import base64\n",
    "import requests"
   ]
  },
  {
   "cell_type": "markdown",
   "id": "6d0ba35f",
   "metadata": {},
   "source": [
    "# Part 1"
   ]
  },
  {
   "cell_type": "markdown",
   "id": "3ea45060",
   "metadata": {},
   "source": [
    "To start off, I need to open one of the JSON files that contains information on the user's web and app activity, and then convert it into a data frame using pandas.\n",
    "\n",
    "I believe Facebook collects information on what websites and apps a user visits. So if I had to guess on which apps or websites I'd see, I would expect kent.edu to be one the websites present in the data, since that would most likely be a common website for an instructor to visit. I also would expect Instagram to be in the data because both that and Facebook are owned by the same company and it's one of the most popular social media sites to have an account in."
   ]
  },
  {
   "cell_type": "code",
   "execution_count": 113,
   "id": "8bd0a7c2",
   "metadata": {},
   "outputs": [],
   "source": [
    "with open(r\"C:\\Users\\Quan\\EMAT22110_FA22\\Silva FB and IG data toshare\\facebook-davidsilva100046_year-toshare\\facebook-davidsilva100046_year-to_share\\apps_and_websites_off_of_facebook\\your_off-facebook_activity.json\") as j:\n",
    "    apps = json.load(j)"
   ]
  },
  {
   "cell_type": "markdown",
   "id": "b477e451",
   "metadata": {},
   "source": [
    "So the first data frame generated has two columns called \"name\" and \"events.\" \"name\" consists of the apps or sites visited, while \"events\" contains three pieces of information: id, type, and timestamp. When looking at the contents of the JSON file, I notice that those three pieces are always grouped together inside curly braces, and some apps/sites contain more than one of those groupings inside \"events.\" If I had to guess, the amount of those groups under each \"events\" list represents how many times an app or website has been visited.\n",
    "\n",
    "What I need to do now is to simplify the \"events\" column to display the number of times each app/site was visited."
   ]
  },
  {
   "cell_type": "code",
   "execution_count": 114,
   "id": "285787c3",
   "metadata": {},
   "outputs": [
    {
     "data": {
      "text/html": [
       "<div>\n",
       "<style scoped>\n",
       "    .dataframe tbody tr th:only-of-type {\n",
       "        vertical-align: middle;\n",
       "    }\n",
       "\n",
       "    .dataframe tbody tr th {\n",
       "        vertical-align: top;\n",
       "    }\n",
       "\n",
       "    .dataframe thead th {\n",
       "        text-align: right;\n",
       "    }\n",
       "</style>\n",
       "<table border=\"1\" class=\"dataframe\">\n",
       "  <thead>\n",
       "    <tr style=\"text-align: right;\">\n",
       "      <th></th>\n",
       "      <th>name</th>\n",
       "      <th>events</th>\n",
       "    </tr>\n",
       "  </thead>\n",
       "  <tbody>\n",
       "    <tr>\n",
       "      <th>0</th>\n",
       "      <td>Spotify: Spotify: Music and Podcasts</td>\n",
       "      <td>[{'id': 174829003346, 'type': 'CUSTOM', 'times...</td>\n",
       "    </tr>\n",
       "    <tr>\n",
       "      <th>1</th>\n",
       "      <td>cameo.com</td>\n",
       "      <td>[{'id': 443618109326032, 'type': 'PAGE_VIEW', ...</td>\n",
       "    </tr>\n",
       "    <tr>\n",
       "      <th>2</th>\n",
       "      <td>kent.edu</td>\n",
       "      <td>[{'id': 661904321318543, 'type': 'PAGE_VIEW', ...</td>\n",
       "    </tr>\n",
       "    <tr>\n",
       "      <th>3</th>\n",
       "      <td>Allstate</td>\n",
       "      <td>[{'id': 2702763333090634, 'type': 'CUSTOM', 't...</td>\n",
       "    </tr>\n",
       "    <tr>\n",
       "      <th>4</th>\n",
       "      <td>Bed Bath &amp; Beyond</td>\n",
       "      <td>[{'id': 346165315733088, 'type': 'PURCHASE', '...</td>\n",
       "    </tr>\n",
       "    <tr>\n",
       "      <th>...</th>\n",
       "      <td>...</td>\n",
       "      <td>...</td>\n",
       "    </tr>\n",
       "    <tr>\n",
       "      <th>570</th>\n",
       "      <td>goodyear.com</td>\n",
       "      <td>[{'id': 493663731138538, 'type': 'PAGE_VIEW', ...</td>\n",
       "    </tr>\n",
       "    <tr>\n",
       "      <th>571</th>\n",
       "      <td>futurism.com</td>\n",
       "      <td>[{'id': 286353685112848, 'type': 'PAGE_VIEW', ...</td>\n",
       "    </tr>\n",
       "    <tr>\n",
       "      <th>572</th>\n",
       "      <td>flixlist.co</td>\n",
       "      <td>[{'id': 687389134726121, 'type': 'PAGE_VIEW', ...</td>\n",
       "    </tr>\n",
       "    <tr>\n",
       "      <th>573</th>\n",
       "      <td>freedomscientific.com</td>\n",
       "      <td>[{'id': 2984607088284540, 'type': 'PAGE_VIEW',...</td>\n",
       "    </tr>\n",
       "    <tr>\n",
       "      <th>574</th>\n",
       "      <td>yougov.com</td>\n",
       "      <td>[{'id': 287252505137592, 'type': 'PAGE_VIEW', ...</td>\n",
       "    </tr>\n",
       "  </tbody>\n",
       "</table>\n",
       "<p>575 rows × 2 columns</p>\n",
       "</div>"
      ],
      "text/plain": [
       "                                     name  \\\n",
       "0    Spotify: Spotify: Music and Podcasts   \n",
       "1                               cameo.com   \n",
       "2                                kent.edu   \n",
       "3                                Allstate   \n",
       "4                       Bed Bath & Beyond   \n",
       "..                                    ...   \n",
       "570                          goodyear.com   \n",
       "571                          futurism.com   \n",
       "572                           flixlist.co   \n",
       "573                 freedomscientific.com   \n",
       "574                            yougov.com   \n",
       "\n",
       "                                                events  \n",
       "0    [{'id': 174829003346, 'type': 'CUSTOM', 'times...  \n",
       "1    [{'id': 443618109326032, 'type': 'PAGE_VIEW', ...  \n",
       "2    [{'id': 661904321318543, 'type': 'PAGE_VIEW', ...  \n",
       "3    [{'id': 2702763333090634, 'type': 'CUSTOM', 't...  \n",
       "4    [{'id': 346165315733088, 'type': 'PURCHASE', '...  \n",
       "..                                                 ...  \n",
       "570  [{'id': 493663731138538, 'type': 'PAGE_VIEW', ...  \n",
       "571  [{'id': 286353685112848, 'type': 'PAGE_VIEW', ...  \n",
       "572  [{'id': 687389134726121, 'type': 'PAGE_VIEW', ...  \n",
       "573  [{'id': 2984607088284540, 'type': 'PAGE_VIEW',...  \n",
       "574  [{'id': 287252505137592, 'type': 'PAGE_VIEW', ...  \n",
       "\n",
       "[575 rows x 2 columns]"
      ]
     },
     "execution_count": 114,
     "metadata": {},
     "output_type": "execute_result"
    }
   ],
   "source": [
    "apps_df = pd.DataFrame(apps['off_facebook_activity_v2'])\n",
    "apps_df"
   ]
  },
  {
   "cell_type": "markdown",
   "id": "ce5bdd5d",
   "metadata": {},
   "source": [
    "I decided to use the len() function to see how many \"events\" group was inside a specific group. I chose row two of the above data frame and found that kent.edu was visited over 600 times."
   ]
  },
  {
   "cell_type": "code",
   "execution_count": 115,
   "id": "7e96b44b",
   "metadata": {},
   "outputs": [
    {
     "data": {
      "text/plain": [
       "631"
      ]
     },
     "execution_count": 115,
     "metadata": {},
     "output_type": "execute_result"
    }
   ],
   "source": [
    "len(apps_df['events'][2])"
   ]
  },
  {
   "cell_type": "markdown",
   "id": "22437eef",
   "metadata": {},
   "source": [
    "My first attempt to make a data frame with the number of site visits was to use the str.len() function. It generated a data frame with the \"events\" column now counting the number of visits, but it removed the \"name\" column, which made it harder to determine which site/app belonged in each row. I needed to find a way to put the \"name\" column back in the data frame."
   ]
  },
  {
   "cell_type": "code",
   "execution_count": 116,
   "id": "5348d1c7",
   "metadata": {},
   "outputs": [
    {
     "data": {
      "text/html": [
       "<div>\n",
       "<style scoped>\n",
       "    .dataframe tbody tr th:only-of-type {\n",
       "        vertical-align: middle;\n",
       "    }\n",
       "\n",
       "    .dataframe tbody tr th {\n",
       "        vertical-align: top;\n",
       "    }\n",
       "\n",
       "    .dataframe thead th {\n",
       "        text-align: right;\n",
       "    }\n",
       "</style>\n",
       "<table border=\"1\" class=\"dataframe\">\n",
       "  <thead>\n",
       "    <tr style=\"text-align: right;\">\n",
       "      <th></th>\n",
       "      <th>events</th>\n",
       "    </tr>\n",
       "  </thead>\n",
       "  <tbody>\n",
       "    <tr>\n",
       "      <th>0</th>\n",
       "      <td>1</td>\n",
       "    </tr>\n",
       "    <tr>\n",
       "      <th>1</th>\n",
       "      <td>5</td>\n",
       "    </tr>\n",
       "    <tr>\n",
       "      <th>2</th>\n",
       "      <td>631</td>\n",
       "    </tr>\n",
       "    <tr>\n",
       "      <th>3</th>\n",
       "      <td>2</td>\n",
       "    </tr>\n",
       "    <tr>\n",
       "      <th>4</th>\n",
       "      <td>2</td>\n",
       "    </tr>\n",
       "    <tr>\n",
       "      <th>...</th>\n",
       "      <td>...</td>\n",
       "    </tr>\n",
       "    <tr>\n",
       "      <th>570</th>\n",
       "      <td>2</td>\n",
       "    </tr>\n",
       "    <tr>\n",
       "      <th>571</th>\n",
       "      <td>1</td>\n",
       "    </tr>\n",
       "    <tr>\n",
       "      <th>572</th>\n",
       "      <td>1</td>\n",
       "    </tr>\n",
       "    <tr>\n",
       "      <th>573</th>\n",
       "      <td>1</td>\n",
       "    </tr>\n",
       "    <tr>\n",
       "      <th>574</th>\n",
       "      <td>1</td>\n",
       "    </tr>\n",
       "  </tbody>\n",
       "</table>\n",
       "<p>575 rows × 1 columns</p>\n",
       "</div>"
      ],
      "text/plain": [
       "     events\n",
       "0         1\n",
       "1         5\n",
       "2       631\n",
       "3         2\n",
       "4         2\n",
       "..      ...\n",
       "570       2\n",
       "571       1\n",
       "572       1\n",
       "573       1\n",
       "574       1\n",
       "\n",
       "[575 rows x 1 columns]"
      ]
     },
     "execution_count": 116,
     "metadata": {},
     "output_type": "execute_result"
    }
   ],
   "source": [
    "events = pd.DataFrame(apps_df['events'].str.len())\n",
    "events"
   ]
  },
  {
   "cell_type": "markdown",
   "id": "157e6cc3",
   "metadata": {},
   "source": [
    "I discovered a solution where I could initialize a new variable called \"counts\" and have it remove the \"events\" column of my first data frame, then replace that column my second data frame, and renaming it \"counts.\""
   ]
  },
  {
   "cell_type": "code",
   "execution_count": 117,
   "id": "9c69e062",
   "metadata": {},
   "outputs": [
    {
     "data": {
      "text/html": [
       "<div>\n",
       "<style scoped>\n",
       "    .dataframe tbody tr th:only-of-type {\n",
       "        vertical-align: middle;\n",
       "    }\n",
       "\n",
       "    .dataframe tbody tr th {\n",
       "        vertical-align: top;\n",
       "    }\n",
       "\n",
       "    .dataframe thead th {\n",
       "        text-align: right;\n",
       "    }\n",
       "</style>\n",
       "<table border=\"1\" class=\"dataframe\">\n",
       "  <thead>\n",
       "    <tr style=\"text-align: right;\">\n",
       "      <th></th>\n",
       "      <th>name</th>\n",
       "      <th>counts</th>\n",
       "    </tr>\n",
       "  </thead>\n",
       "  <tbody>\n",
       "    <tr>\n",
       "      <th>0</th>\n",
       "      <td>Spotify: Spotify: Music and Podcasts</td>\n",
       "      <td>1</td>\n",
       "    </tr>\n",
       "    <tr>\n",
       "      <th>1</th>\n",
       "      <td>cameo.com</td>\n",
       "      <td>5</td>\n",
       "    </tr>\n",
       "    <tr>\n",
       "      <th>2</th>\n",
       "      <td>kent.edu</td>\n",
       "      <td>631</td>\n",
       "    </tr>\n",
       "    <tr>\n",
       "      <th>3</th>\n",
       "      <td>Allstate</td>\n",
       "      <td>2</td>\n",
       "    </tr>\n",
       "    <tr>\n",
       "      <th>4</th>\n",
       "      <td>Bed Bath &amp; Beyond</td>\n",
       "      <td>2</td>\n",
       "    </tr>\n",
       "    <tr>\n",
       "      <th>...</th>\n",
       "      <td>...</td>\n",
       "      <td>...</td>\n",
       "    </tr>\n",
       "    <tr>\n",
       "      <th>570</th>\n",
       "      <td>goodyear.com</td>\n",
       "      <td>2</td>\n",
       "    </tr>\n",
       "    <tr>\n",
       "      <th>571</th>\n",
       "      <td>futurism.com</td>\n",
       "      <td>1</td>\n",
       "    </tr>\n",
       "    <tr>\n",
       "      <th>572</th>\n",
       "      <td>flixlist.co</td>\n",
       "      <td>1</td>\n",
       "    </tr>\n",
       "    <tr>\n",
       "      <th>573</th>\n",
       "      <td>freedomscientific.com</td>\n",
       "      <td>1</td>\n",
       "    </tr>\n",
       "    <tr>\n",
       "      <th>574</th>\n",
       "      <td>yougov.com</td>\n",
       "      <td>1</td>\n",
       "    </tr>\n",
       "  </tbody>\n",
       "</table>\n",
       "<p>575 rows × 2 columns</p>\n",
       "</div>"
      ],
      "text/plain": [
       "                                     name  counts\n",
       "0    Spotify: Spotify: Music and Podcasts       1\n",
       "1                               cameo.com       5\n",
       "2                                kent.edu     631\n",
       "3                                Allstate       2\n",
       "4                       Bed Bath & Beyond       2\n",
       "..                                    ...     ...\n",
       "570                          goodyear.com       2\n",
       "571                          futurism.com       1\n",
       "572                           flixlist.co       1\n",
       "573                 freedomscientific.com       1\n",
       "574                            yougov.com       1\n",
       "\n",
       "[575 rows x 2 columns]"
      ]
     },
     "execution_count": 117,
     "metadata": {},
     "output_type": "execute_result"
    }
   ],
   "source": [
    "counts = apps_df.drop('events', axis = 1)\n",
    "counts['counts'] = events['events']\n",
    "counts"
   ]
  },
  {
   "cell_type": "markdown",
   "id": "6ecc9825",
   "metadata": {},
   "source": [
    "Now that I got the data frame I needed, I can now create a histogram of the data I collected. The histogram itself shows one long bar and a couple bars that are very thin. Each bar represents the number of sites/apps that were visited a certain number of times. What the histogram shows is that there are over 500 websites and apps that were visited for less than 100 times, while there are very few sites that were visited for more than that. One thin bar shows that there's a website with over 600 visits, and another thin bar shows a website that's gotten over 800 visits."
   ]
  },
  {
   "cell_type": "code",
   "execution_count": 118,
   "id": "ca832bb5",
   "metadata": {
    "scrolled": true
   },
   "outputs": [
    {
     "data": {
      "image/png": "[encoded data removed]",
      "text/plain": [
       "<Figure size 432x288 with 1 Axes>"
      ]
     },
     "metadata": {
      "needs_background": "light"
     },
     "output_type": "display_data"
    }
   ],
   "source": [
    "counts['counts'].plot.hist()\n",
    "plt.xlabel('Count')\n",
    "plt.show()"
   ]
  },
  {
   "cell_type": "markdown",
   "id": "bb75c72d",
   "metadata": {},
   "source": [
    "The final task for part 1 was to make a bar plot showing the 20 most logged apps and websites. To do this, I needed to first make a data frame where the \"counts\" column is ordered from greatest to smallest, then make so that the data frame would just display the first 20 rows."
   ]
  },
  {
   "cell_type": "code",
   "execution_count": 119,
   "id": "faa395c3",
   "metadata": {},
   "outputs": [],
   "source": [
    "order = counts.sort_values('counts', ascending=False)"
   ]
  },
  {
   "cell_type": "code",
   "execution_count": 120,
   "id": "89050635",
   "metadata": {
    "scrolled": false
   },
   "outputs": [
    {
     "data": {
      "text/html": [
       "<div>\n",
       "<style scoped>\n",
       "    .dataframe tbody tr th:only-of-type {\n",
       "        vertical-align: middle;\n",
       "    }\n",
       "\n",
       "    .dataframe tbody tr th {\n",
       "        vertical-align: top;\n",
       "    }\n",
       "\n",
       "    .dataframe thead th {\n",
       "        text-align: right;\n",
       "    }\n",
       "</style>\n",
       "<table border=\"1\" class=\"dataframe\">\n",
       "  <thead>\n",
       "    <tr style=\"text-align: right;\">\n",
       "      <th></th>\n",
       "      <th>name</th>\n",
       "      <th>counts</th>\n",
       "    </tr>\n",
       "  </thead>\n",
       "  <tbody>\n",
       "    <tr>\n",
       "      <th>36</th>\n",
       "      <td>TikTok</td>\n",
       "      <td>838</td>\n",
       "    </tr>\n",
       "    <tr>\n",
       "      <th>2</th>\n",
       "      <td>kent.edu</td>\n",
       "      <td>631</td>\n",
       "    </tr>\n",
       "    <tr>\n",
       "      <th>230</th>\n",
       "      <td>Hulu: Stream new TV shows, movies &amp; series</td>\n",
       "      <td>125</td>\n",
       "    </tr>\n",
       "    <tr>\n",
       "      <th>45</th>\n",
       "      <td>Hulu: Watch TV shows, movies &amp; new original se...</td>\n",
       "      <td>118</td>\n",
       "    </tr>\n",
       "    <tr>\n",
       "      <th>6</th>\n",
       "      <td>sagepub.com</td>\n",
       "      <td>84</td>\n",
       "    </tr>\n",
       "    <tr>\n",
       "      <th>213</th>\n",
       "      <td>Discord - Talk, Video Chat &amp; Hang Out with Fri...</td>\n",
       "      <td>53</td>\n",
       "    </tr>\n",
       "    <tr>\n",
       "      <th>7</th>\n",
       "      <td>wiley.com</td>\n",
       "      <td>51</td>\n",
       "    </tr>\n",
       "    <tr>\n",
       "      <th>273</th>\n",
       "      <td>Hades' Star</td>\n",
       "      <td>46</td>\n",
       "    </tr>\n",
       "    <tr>\n",
       "      <th>232</th>\n",
       "      <td>Fitbit</td>\n",
       "      <td>40</td>\n",
       "    </tr>\n",
       "    <tr>\n",
       "      <th>208</th>\n",
       "      <td>U.S. Bank - Inspired by customers</td>\n",
       "      <td>39</td>\n",
       "    </tr>\n",
       "    <tr>\n",
       "      <th>57</th>\n",
       "      <td>Spotify: Listen to podcasts &amp; find music you love</td>\n",
       "      <td>32</td>\n",
       "    </tr>\n",
       "    <tr>\n",
       "      <th>302</th>\n",
       "      <td>Hulu: Stream all your favorite TV shows and mo...</td>\n",
       "      <td>29</td>\n",
       "    </tr>\n",
       "    <tr>\n",
       "      <th>555</th>\n",
       "      <td>TikTok - Trends Start Here</td>\n",
       "      <td>29</td>\n",
       "    </tr>\n",
       "    <tr>\n",
       "      <th>240</th>\n",
       "      <td>doodle.com</td>\n",
       "      <td>26</td>\n",
       "    </tr>\n",
       "    <tr>\n",
       "      <th>89</th>\n",
       "      <td>bonappetit.com</td>\n",
       "      <td>24</td>\n",
       "    </tr>\n",
       "    <tr>\n",
       "      <th>66</th>\n",
       "      <td>newsmax.com</td>\n",
       "      <td>22</td>\n",
       "    </tr>\n",
       "    <tr>\n",
       "      <th>20</th>\n",
       "      <td>wsu.edu</td>\n",
       "      <td>22</td>\n",
       "    </tr>\n",
       "    <tr>\n",
       "      <th>37</th>\n",
       "      <td>U.S. Bank - Secure and easy mobile banking</td>\n",
       "      <td>21</td>\n",
       "    </tr>\n",
       "    <tr>\n",
       "      <th>122</th>\n",
       "      <td>cbssports.com</td>\n",
       "      <td>18</td>\n",
       "    </tr>\n",
       "    <tr>\n",
       "      <th>211</th>\n",
       "      <td>theatlantic.com</td>\n",
       "      <td>17</td>\n",
       "    </tr>\n",
       "  </tbody>\n",
       "</table>\n",
       "</div>"
      ],
      "text/plain": [
       "                                                  name  counts\n",
       "36                                              TikTok     838\n",
       "2                                             kent.edu     631\n",
       "230         Hulu: Stream new TV shows, movies & series     125\n",
       "45   Hulu: Watch TV shows, movies & new original se...     118\n",
       "6                                          sagepub.com      84\n",
       "213  Discord - Talk, Video Chat & Hang Out with Fri...      53\n",
       "7                                            wiley.com      51\n",
       "273                                        Hades' Star      46\n",
       "232                                             Fitbit      40\n",
       "208                  U.S. Bank - Inspired by customers      39\n",
       "57   Spotify: Listen to podcasts & find music you love      32\n",
       "302  Hulu: Stream all your favorite TV shows and mo...      29\n",
       "555                         TikTok - Trends Start Here      29\n",
       "240                                         doodle.com      26\n",
       "89                                      bonappetit.com      24\n",
       "66                                         newsmax.com      22\n",
       "20                                             wsu.edu      22\n",
       "37          U.S. Bank - Secure and easy mobile banking      21\n",
       "122                                      cbssports.com      18\n",
       "211                                    theatlantic.com      17"
      ]
     },
     "execution_count": 120,
     "metadata": {},
     "output_type": "execute_result"
    }
   ],
   "source": [
    "counts_order = order.head(n=20)\n",
    "counts_order"
   ]
  },
  {
   "cell_type": "markdown",
   "id": "44a464ef",
   "metadata": {},
   "source": [
    "Here are the final results for the bar plot. As you can see, TikTok and kent.edu have received a lot more visits than any other website. Almost everything else in the bar plot shows sites/apps with less than 100 visits. What I can conclude from this bar plot is that my instructor is an avid TikTok user and also frequently uses the KSU website, most likely due to his work.\n",
    "\n",
    "What Facebook could possibly conclude is that since kent.edu has so many visits, they would conclude that the user is associated with KSU. As to how exactly the user is associated with KSU, Facebook would guess a number of things, ranging from the user being a student to an actual faculty member. Because of that, Facebook's conclusion would be accurate depending on what their guess would be."
   ]
  },
  {
   "cell_type": "code",
   "execution_count": 121,
   "id": "9813b29e",
   "metadata": {
    "scrolled": false
   },
   "outputs": [
    {
     "data": {
      "text/plain": [
       "<AxesSubplot:xlabel='name'>"
      ]
     },
     "execution_count": 121,
     "metadata": {},
     "output_type": "execute_result"
    },
    {
     "data": {
      "image/png": "[encoded data removed]",
      "text/plain": [
       "<Figure size 432x288 with 1 Axes>"
      ]
     },
     "metadata": {
      "needs_background": "light"
     },
     "output_type": "display_data"
    }
   ],
   "source": [
    "counts_order.plot.bar(x='name', y='counts')"
   ]
  },
  {
   "cell_type": "markdown",
   "id": "5f1d19e7",
   "metadata": {},
   "source": [
    "# Part 2"
   ]
  },
  {
   "cell_type": "markdown",
   "id": "e7ef8206",
   "metadata": {},
   "source": [
    "The two albums I've chosen for part 2 are \"Turn on the Bright Lights\" by Interpol and \"...Like Clockwork\" by Queens of the Stone Age. I chose these two because they are some of my favorite albums and both have left a lasting impression on me more than most other music. Both are considered rock albums, but fall under completely different subgenres of rock music. While these two albums have different styles of rock music, they both could be compared in terms of tone and impact. I'd say both albums have a dark and moody atmosphere to them, but still have some songs that are danceable and energetic. A song being danceable could seemingly contrast to the depressing tone of a whole album, so I decided to choose valence and danceability as my audio features just to see how connected they could be for the music of both albums.\n",
    "\n",
    "<img src=\"https://pbs.twimg.com/media/FanBZPVWQAET-Qi?format=jpg&name=4096x4096\" width=\"200\" align=\"left\">\n",
    "<img src=\"https://artesonora.pt/wp-content/uploads/2020/04/queens-of-the-stone-age-like-clockwork.jpg\" width=\"200\" align=\"left\">"
   ]
  },
  {
   "cell_type": "markdown",
   "id": "578e976d",
   "metadata": {},
   "source": [
    "First thing I needed to do was to encode my Spotify keys and then use an access token so I would be able to collect the audio features."
   ]
  },
  {
   "cell_type": "code",
   "execution_count": 122,
   "id": "b9b39834",
   "metadata": {},
   "outputs": [],
   "source": [
    "keys = pd.read_csv(\"Spotify-Keys_9-23-21.txt\", header = 0, sep = \",\")"
   ]
  },
  {
   "cell_type": "code",
   "execution_count": 123,
   "id": "3bda5631",
   "metadata": {},
   "outputs": [],
   "source": [
    "appid = keys['Client_ID'][0]"
   ]
  },
  {
   "cell_type": "code",
   "execution_count": 124,
   "id": "743a3567",
   "metadata": {},
   "outputs": [],
   "source": [
    "appsecret = keys['Client_Secret'][0]"
   ]
  },
  {
   "cell_type": "code",
   "execution_count": 125,
   "id": "e5e7f402",
   "metadata": {},
   "outputs": [],
   "source": [
    "client_cred = base64.b64encode(str(appid + \":\" + appsecret).encode('ascii'))"
   ]
  },
  {
   "cell_type": "code",
   "execution_count": 126,
   "id": "69715d5d",
   "metadata": {},
   "outputs": [],
   "source": [
    "header = {'Authorization': 'Basic {}'.format(client_cred.decode('ascii'))}"
   ]
  },
  {
   "cell_type": "code",
   "execution_count": 127,
   "id": "eb84ec70",
   "metadata": {},
   "outputs": [],
   "source": [
    "payload = {'grant_type' : 'client_credentials'}\n",
    "access_token_url = \"https://accounts.spotify.com/api/token\""
   ]
  },
  {
   "cell_type": "code",
   "execution_count": 128,
   "id": "23886529",
   "metadata": {},
   "outputs": [],
   "source": [
    "response = requests.post(access_token_url, headers = header, data = payload)"
   ]
  },
  {
   "cell_type": "code",
   "execution_count": 129,
   "id": "c5c570d4",
   "metadata": {},
   "outputs": [],
   "source": [
    "session_token = response.json()['access_token']"
   ]
  },
  {
   "cell_type": "code",
   "execution_count": 130,
   "id": "6104a51e",
   "metadata": {},
   "outputs": [],
   "source": [
    "session_header = {'Authorization': 'Bearer {}'.format(response.json()['access_token'])}"
   ]
  },
  {
   "cell_type": "markdown",
   "id": "1cb45dde",
   "metadata": {},
   "source": [
    "The code cells below are the steps taken to retrieve the audio features of \"Turn on the Bright Lights.\" This included getting the album ID off of Spotify, requesting an API endpoint, creating a dictionary, etc."
   ]
  },
  {
   "cell_type": "code",
   "execution_count": 131,
   "id": "30892c8c",
   "metadata": {},
   "outputs": [
    {
     "name": "stdout",
     "output_type": "stream",
     "text": [
      "200\n",
      "2ZgyzFYYOz21b2AhPPkWKF,1ZBqJilDGBVYktvlCEo9jC,4PAR0Zp6Mbu3p6NKYClgBr,286mFeYjBJ9fkioaIzaxoN,1I3XuGIh2qluBSUknDyA62,4OzNUySi012AZ05ZLo0w8F,4zYBNOB5TOf1cMpFxA5e6N,4tZdPxjFCZepceY2iuoeKp,2pIk8EErerGs25iitIvZ03,7EL7Wt6yCFfeBejZYIiTPC,0whlogyhf1AejBU72KNv38\n"
     ]
    }
   ],
   "source": [
    "lights_id = '4sW8Eql2e2kdRP1A1R1clG'\n",
    "album_tracks_endpoint = \"https://api.spotify.com/v1/albums/{}/tracks\".format(lights_id)\n",
    "lights_tracks = requests.get(album_tracks_endpoint, headers = session_header)\n",
    "print(lights_tracks.status_code)\n",
    "lights_dict = json.loads(lights_tracks.text)\n",
    "lights_track_ids = [x['id'] for x in lights_dict['items']]\n",
    "lights_track_strings = ','.join(str(x) for x in lights_track_ids)\n",
    "print(lights_track_strings)\n",
    "track_features_endpoint = \"https://api.spotify.com/v1/audio-features?ids={}\".format(lights_track_strings)"
   ]
  },
  {
   "cell_type": "code",
   "execution_count": 132,
   "id": "f3e77510",
   "metadata": {},
   "outputs": [
    {
     "data": {
      "text/plain": [
       "200"
      ]
     },
     "execution_count": 132,
     "metadata": {},
     "output_type": "execute_result"
    }
   ],
   "source": [
    "lights_features = requests.get(track_features_endpoint, headers = session_header)\n",
    "lights_features.status_code"
   ]
  },
  {
   "cell_type": "code",
   "execution_count": 133,
   "id": "a8b43a40",
   "metadata": {},
   "outputs": [],
   "source": [
    "lights_dict = json.loads(lights_features.text)"
   ]
  },
  {
   "cell_type": "markdown",
   "id": "f70aca50",
   "metadata": {},
   "source": [
    "Once I retrieve the audio features, I then transfer all of that information into a data frame. This is the output for the first five rows."
   ]
  },
  {
   "cell_type": "code",
   "execution_count": 134,
   "id": "b013e25a",
   "metadata": {},
   "outputs": [
    {
     "data": {
      "text/html": [
       "<div>\n",
       "<style scoped>\n",
       "    .dataframe tbody tr th:only-of-type {\n",
       "        vertical-align: middle;\n",
       "    }\n",
       "\n",
       "    .dataframe tbody tr th {\n",
       "        vertical-align: top;\n",
       "    }\n",
       "\n",
       "    .dataframe thead th {\n",
       "        text-align: right;\n",
       "    }\n",
       "</style>\n",
       "<table border=\"1\" class=\"dataframe\">\n",
       "  <thead>\n",
       "    <tr style=\"text-align: right;\">\n",
       "      <th></th>\n",
       "      <th>danceability</th>\n",
       "      <th>energy</th>\n",
       "      <th>key</th>\n",
       "      <th>loudness</th>\n",
       "      <th>mode</th>\n",
       "      <th>speechiness</th>\n",
       "      <th>acousticness</th>\n",
       "      <th>instrumentalness</th>\n",
       "      <th>liveness</th>\n",
       "      <th>valence</th>\n",
       "      <th>tempo</th>\n",
       "      <th>type</th>\n",
       "      <th>id</th>\n",
       "      <th>uri</th>\n",
       "      <th>track_href</th>\n",
       "      <th>analysis_url</th>\n",
       "      <th>duration_ms</th>\n",
       "      <th>time_signature</th>\n",
       "    </tr>\n",
       "  </thead>\n",
       "  <tbody>\n",
       "    <tr>\n",
       "      <th>0</th>\n",
       "      <td>0.174</td>\n",
       "      <td>0.794</td>\n",
       "      <td>8</td>\n",
       "      <td>-5.336</td>\n",
       "      <td>1</td>\n",
       "      <td>0.0314</td>\n",
       "      <td>0.002170</td>\n",
       "      <td>0.7330</td>\n",
       "      <td>0.0786</td>\n",
       "      <td>0.0976</td>\n",
       "      <td>91.665</td>\n",
       "      <td>audio_features</td>\n",
       "      <td>2ZgyzFYYOz21b2AhPPkWKF</td>\n",
       "      <td>spotify:track:2ZgyzFYYOz21b2AhPPkWKF</td>\n",
       "      <td>https://api.spotify.com/v1/tracks/2ZgyzFYYOz21...</td>\n",
       "      <td>https://api.spotify.com/v1/audio-analysis/2Zgy...</td>\n",
       "      <td>236707</td>\n",
       "      <td>4</td>\n",
       "    </tr>\n",
       "    <tr>\n",
       "      <th>1</th>\n",
       "      <td>0.377</td>\n",
       "      <td>0.938</td>\n",
       "      <td>5</td>\n",
       "      <td>-4.900</td>\n",
       "      <td>1</td>\n",
       "      <td>0.0618</td>\n",
       "      <td>0.000052</td>\n",
       "      <td>0.5800</td>\n",
       "      <td>0.0705</td>\n",
       "      <td>0.3850</td>\n",
       "      <td>120.514</td>\n",
       "      <td>audio_features</td>\n",
       "      <td>1ZBqJilDGBVYktvlCEo9jC</td>\n",
       "      <td>spotify:track:1ZBqJilDGBVYktvlCEo9jC</td>\n",
       "      <td>https://api.spotify.com/v1/tracks/1ZBqJilDGBVY...</td>\n",
       "      <td>https://api.spotify.com/v1/audio-analysis/1ZBq...</td>\n",
       "      <td>251293</td>\n",
       "      <td>4</td>\n",
       "    </tr>\n",
       "    <tr>\n",
       "      <th>2</th>\n",
       "      <td>0.167</td>\n",
       "      <td>0.759</td>\n",
       "      <td>5</td>\n",
       "      <td>-5.059</td>\n",
       "      <td>1</td>\n",
       "      <td>0.0333</td>\n",
       "      <td>0.013300</td>\n",
       "      <td>0.0629</td>\n",
       "      <td>0.1100</td>\n",
       "      <td>0.2840</td>\n",
       "      <td>148.646</td>\n",
       "      <td>audio_features</td>\n",
       "      <td>4PAR0Zp6Mbu3p6NKYClgBr</td>\n",
       "      <td>spotify:track:4PAR0Zp6Mbu3p6NKYClgBr</td>\n",
       "      <td>https://api.spotify.com/v1/tracks/4PAR0Zp6Mbu3...</td>\n",
       "      <td>https://api.spotify.com/v1/audio-analysis/4PAR...</td>\n",
       "      <td>259733</td>\n",
       "      <td>3</td>\n",
       "    </tr>\n",
       "    <tr>\n",
       "      <th>3</th>\n",
       "      <td>0.237</td>\n",
       "      <td>0.911</td>\n",
       "      <td>6</td>\n",
       "      <td>-5.833</td>\n",
       "      <td>0</td>\n",
       "      <td>0.0708</td>\n",
       "      <td>0.000021</td>\n",
       "      <td>0.8770</td>\n",
       "      <td>0.0935</td>\n",
       "      <td>0.2470</td>\n",
       "      <td>138.227</td>\n",
       "      <td>audio_features</td>\n",
       "      <td>286mFeYjBJ9fkioaIzaxoN</td>\n",
       "      <td>spotify:track:286mFeYjBJ9fkioaIzaxoN</td>\n",
       "      <td>https://api.spotify.com/v1/tracks/286mFeYjBJ9f...</td>\n",
       "      <td>https://api.spotify.com/v1/audio-analysis/286m...</td>\n",
       "      <td>299773</td>\n",
       "      <td>4</td>\n",
       "    </tr>\n",
       "    <tr>\n",
       "      <th>4</th>\n",
       "      <td>0.318</td>\n",
       "      <td>0.879</td>\n",
       "      <td>9</td>\n",
       "      <td>-5.651</td>\n",
       "      <td>0</td>\n",
       "      <td>0.0375</td>\n",
       "      <td>0.000035</td>\n",
       "      <td>0.9280</td>\n",
       "      <td>0.0904</td>\n",
       "      <td>0.3000</td>\n",
       "      <td>102.921</td>\n",
       "      <td>audio_features</td>\n",
       "      <td>1I3XuGIh2qluBSUknDyA62</td>\n",
       "      <td>spotify:track:1I3XuGIh2qluBSUknDyA62</td>\n",
       "      <td>https://api.spotify.com/v1/tracks/1I3XuGIh2qlu...</td>\n",
       "      <td>https://api.spotify.com/v1/audio-analysis/1I3X...</td>\n",
       "      <td>268333</td>\n",
       "      <td>4</td>\n",
       "    </tr>\n",
       "  </tbody>\n",
       "</table>\n",
       "</div>"
      ],
      "text/plain": [
       "   danceability  energy  key  loudness  mode  speechiness  acousticness  \\\n",
       "0         0.174   0.794    8    -5.336     1       0.0314      0.002170   \n",
       "1         0.377   0.938    5    -4.900     1       0.0618      0.000052   \n",
       "2         0.167   0.759    5    -5.059     1       0.0333      0.013300   \n",
       "3         0.237   0.911    6    -5.833     0       0.0708      0.000021   \n",
       "4         0.318   0.879    9    -5.651     0       0.0375      0.000035   \n",
       "\n",
       "   instrumentalness  liveness  valence    tempo            type  \\\n",
       "0            0.7330    0.0786   0.0976   91.665  audio_features   \n",
       "1            0.5800    0.0705   0.3850  120.514  audio_features   \n",
       "2            0.0629    0.1100   0.2840  148.646  audio_features   \n",
       "3            0.8770    0.0935   0.2470  138.227  audio_features   \n",
       "4            0.9280    0.0904   0.3000  102.921  audio_features   \n",
       "\n",
       "                       id                                   uri  \\\n",
       "0  2ZgyzFYYOz21b2AhPPkWKF  spotify:track:2ZgyzFYYOz21b2AhPPkWKF   \n",
       "1  1ZBqJilDGBVYktvlCEo9jC  spotify:track:1ZBqJilDGBVYktvlCEo9jC   \n",
       "2  4PAR0Zp6Mbu3p6NKYClgBr  spotify:track:4PAR0Zp6Mbu3p6NKYClgBr   \n",
       "3  286mFeYjBJ9fkioaIzaxoN  spotify:track:286mFeYjBJ9fkioaIzaxoN   \n",
       "4  1I3XuGIh2qluBSUknDyA62  spotify:track:1I3XuGIh2qluBSUknDyA62   \n",
       "\n",
       "                                          track_href  \\\n",
       "0  https://api.spotify.com/v1/tracks/2ZgyzFYYOz21...   \n",
       "1  https://api.spotify.com/v1/tracks/1ZBqJilDGBVY...   \n",
       "2  https://api.spotify.com/v1/tracks/4PAR0Zp6Mbu3...   \n",
       "3  https://api.spotify.com/v1/tracks/286mFeYjBJ9f...   \n",
       "4  https://api.spotify.com/v1/tracks/1I3XuGIh2qlu...   \n",
       "\n",
       "                                        analysis_url  duration_ms  \\\n",
       "0  https://api.spotify.com/v1/audio-analysis/2Zgy...       236707   \n",
       "1  https://api.spotify.com/v1/audio-analysis/1ZBq...       251293   \n",
       "2  https://api.spotify.com/v1/audio-analysis/4PAR...       259733   \n",
       "3  https://api.spotify.com/v1/audio-analysis/286m...       299773   \n",
       "4  https://api.spotify.com/v1/audio-analysis/1I3X...       268333   \n",
       "\n",
       "   time_signature  \n",
       "0               4  \n",
       "1               4  \n",
       "2               3  \n",
       "3               4  \n",
       "4               4  "
      ]
     },
     "execution_count": 134,
     "metadata": {},
     "output_type": "execute_result"
    }
   ],
   "source": [
    "lights_df = pd.DataFrame(lights_dict['audio_features'])\n",
    "lights_df.head()"
   ]
  },
  {
   "cell_type": "markdown",
   "id": "880e90af",
   "metadata": {},
   "source": [
    "Now I need to retrieve the audio features for \"...Like Clockwork\" using the same steps as the last album."
   ]
  },
  {
   "cell_type": "code",
   "execution_count": 135,
   "id": "1d0051fb",
   "metadata": {},
   "outputs": [
    {
     "name": "stdout",
     "output_type": "stream",
     "text": [
      "200\n",
      "3NsalxTTrWTFPnIrUjl3Ze,1D3YGmST01Ba0WRiT7THPG,4yzozDNjvW7acuGonXwfvA,06hBdrgjUendZyH9U1WV22,0MHHAIjPAd3OSfBS3H0fPg,3i2o9tfQ09XJDbrQRN8QhK,7dRiIhfHt7ekt4tAnJl8Bi,5fb0p81SAZBkZEvmLAfGKz,0Dv8OfSPwrXmNNbE70b9Dq,3UYeU6M7cOG4g2PlAOTvz9\n"
     ]
    }
   ],
   "source": [
    "clock_id = '5T5NM01392dvvd4EhGrCnj'\n",
    "album_tracks_endpoint = \"https://api.spotify.com/v1/albums/{}/tracks\".format(clock_id)\n",
    "clock_tracks = requests.get(album_tracks_endpoint, headers = session_header)\n",
    "print(clock_tracks.status_code)\n",
    "clock_dict = json.loads(clock_tracks.text)\n",
    "clock_track_ids = [x['id'] for x in clock_dict['items']]\n",
    "clock_track_strings = ','.join(str(x) for x in clock_track_ids)\n",
    "print(clock_track_strings)\n",
    "track_features_endpoint = \"https://api.spotify.com/v1/audio-features?ids={}\".format(clock_track_strings)"
   ]
  },
  {
   "cell_type": "code",
   "execution_count": 136,
   "id": "a271d5fb",
   "metadata": {},
   "outputs": [
    {
     "data": {
      "text/plain": [
       "200"
      ]
     },
     "execution_count": 136,
     "metadata": {},
     "output_type": "execute_result"
    }
   ],
   "source": [
    "clock_features = requests.get(track_features_endpoint, headers = session_header)\n",
    "clock_features.status_code"
   ]
  },
  {
   "cell_type": "code",
   "execution_count": 137,
   "id": "4b0459da",
   "metadata": {},
   "outputs": [],
   "source": [
    "clock_dict = json.loads(clock_features.text)"
   ]
  },
  {
   "cell_type": "markdown",
   "id": "55f2cbc9",
   "metadata": {},
   "source": [
    "Here's what the data frame looks like for the audio features of \"...Like Clockwork.\""
   ]
  },
  {
   "cell_type": "code",
   "execution_count": 138,
   "id": "c5dcbfbd",
   "metadata": {},
   "outputs": [
    {
     "data": {
      "text/html": [
       "<div>\n",
       "<style scoped>\n",
       "    .dataframe tbody tr th:only-of-type {\n",
       "        vertical-align: middle;\n",
       "    }\n",
       "\n",
       "    .dataframe tbody tr th {\n",
       "        vertical-align: top;\n",
       "    }\n",
       "\n",
       "    .dataframe thead th {\n",
       "        text-align: right;\n",
       "    }\n",
       "</style>\n",
       "<table border=\"1\" class=\"dataframe\">\n",
       "  <thead>\n",
       "    <tr style=\"text-align: right;\">\n",
       "      <th></th>\n",
       "      <th>danceability</th>\n",
       "      <th>energy</th>\n",
       "      <th>key</th>\n",
       "      <th>loudness</th>\n",
       "      <th>mode</th>\n",
       "      <th>speechiness</th>\n",
       "      <th>acousticness</th>\n",
       "      <th>instrumentalness</th>\n",
       "      <th>liveness</th>\n",
       "      <th>valence</th>\n",
       "      <th>tempo</th>\n",
       "      <th>type</th>\n",
       "      <th>id</th>\n",
       "      <th>uri</th>\n",
       "      <th>track_href</th>\n",
       "      <th>analysis_url</th>\n",
       "      <th>duration_ms</th>\n",
       "      <th>time_signature</th>\n",
       "    </tr>\n",
       "  </thead>\n",
       "  <tbody>\n",
       "    <tr>\n",
       "      <th>0</th>\n",
       "      <td>0.494</td>\n",
       "      <td>0.729</td>\n",
       "      <td>7</td>\n",
       "      <td>-8.027</td>\n",
       "      <td>1</td>\n",
       "      <td>0.0446</td>\n",
       "      <td>0.105000</td>\n",
       "      <td>0.457000</td>\n",
       "      <td>0.114</td>\n",
       "      <td>0.282</td>\n",
       "      <td>105.150</td>\n",
       "      <td>audio_features</td>\n",
       "      <td>3NsalxTTrWTFPnIrUjl3Ze</td>\n",
       "      <td>spotify:track:3NsalxTTrWTFPnIrUjl3Ze</td>\n",
       "      <td>https://api.spotify.com/v1/tracks/3NsalxTTrWTF...</td>\n",
       "      <td>https://api.spotify.com/v1/audio-analysis/3Nsa...</td>\n",
       "      <td>304160</td>\n",
       "      <td>3</td>\n",
       "    </tr>\n",
       "    <tr>\n",
       "      <th>1</th>\n",
       "      <td>0.516</td>\n",
       "      <td>0.780</td>\n",
       "      <td>8</td>\n",
       "      <td>-4.004</td>\n",
       "      <td>0</td>\n",
       "      <td>0.0364</td>\n",
       "      <td>0.001360</td>\n",
       "      <td>0.000715</td>\n",
       "      <td>0.110</td>\n",
       "      <td>0.899</td>\n",
       "      <td>116.794</td>\n",
       "      <td>audio_features</td>\n",
       "      <td>1D3YGmST01Ba0WRiT7THPG</td>\n",
       "      <td>spotify:track:1D3YGmST01Ba0WRiT7THPG</td>\n",
       "      <td>https://api.spotify.com/v1/tracks/1D3YGmST01Ba...</td>\n",
       "      <td>https://api.spotify.com/v1/audio-analysis/1D3Y...</td>\n",
       "      <td>235587</td>\n",
       "      <td>4</td>\n",
       "    </tr>\n",
       "    <tr>\n",
       "      <th>2</th>\n",
       "      <td>0.551</td>\n",
       "      <td>0.386</td>\n",
       "      <td>9</td>\n",
       "      <td>-8.958</td>\n",
       "      <td>0</td>\n",
       "      <td>0.0274</td>\n",
       "      <td>0.085600</td>\n",
       "      <td>0.002260</td>\n",
       "      <td>0.133</td>\n",
       "      <td>0.379</td>\n",
       "      <td>142.047</td>\n",
       "      <td>audio_features</td>\n",
       "      <td>4yzozDNjvW7acuGonXwfvA</td>\n",
       "      <td>spotify:track:4yzozDNjvW7acuGonXwfvA</td>\n",
       "      <td>https://api.spotify.com/v1/tracks/4yzozDNjvW7a...</td>\n",
       "      <td>https://api.spotify.com/v1/audio-analysis/4yzo...</td>\n",
       "      <td>214587</td>\n",
       "      <td>4</td>\n",
       "    </tr>\n",
       "    <tr>\n",
       "      <th>3</th>\n",
       "      <td>0.602</td>\n",
       "      <td>0.849</td>\n",
       "      <td>11</td>\n",
       "      <td>-6.602</td>\n",
       "      <td>1</td>\n",
       "      <td>0.1000</td>\n",
       "      <td>0.636000</td>\n",
       "      <td>0.000032</td>\n",
       "      <td>0.663</td>\n",
       "      <td>0.340</td>\n",
       "      <td>112.071</td>\n",
       "      <td>audio_features</td>\n",
       "      <td>06hBdrgjUendZyH9U1WV22</td>\n",
       "      <td>spotify:track:06hBdrgjUendZyH9U1WV22</td>\n",
       "      <td>https://api.spotify.com/v1/tracks/06hBdrgjUend...</td>\n",
       "      <td>https://api.spotify.com/v1/audio-analysis/06hB...</td>\n",
       "      <td>295587</td>\n",
       "      <td>4</td>\n",
       "    </tr>\n",
       "    <tr>\n",
       "      <th>4</th>\n",
       "      <td>0.187</td>\n",
       "      <td>0.855</td>\n",
       "      <td>11</td>\n",
       "      <td>-4.316</td>\n",
       "      <td>0</td>\n",
       "      <td>0.0624</td>\n",
       "      <td>0.000531</td>\n",
       "      <td>0.020400</td>\n",
       "      <td>0.361</td>\n",
       "      <td>0.257</td>\n",
       "      <td>160.892</td>\n",
       "      <td>audio_features</td>\n",
       "      <td>0MHHAIjPAd3OSfBS3H0fPg</td>\n",
       "      <td>spotify:track:0MHHAIjPAd3OSfBS3H0fPg</td>\n",
       "      <td>https://api.spotify.com/v1/tracks/0MHHAIjPAd3O...</td>\n",
       "      <td>https://api.spotify.com/v1/audio-analysis/0MHH...</td>\n",
       "      <td>235400</td>\n",
       "      <td>3</td>\n",
       "    </tr>\n",
       "  </tbody>\n",
       "</table>\n",
       "</div>"
      ],
      "text/plain": [
       "   danceability  energy  key  loudness  mode  speechiness  acousticness  \\\n",
       "0         0.494   0.729    7    -8.027     1       0.0446      0.105000   \n",
       "1         0.516   0.780    8    -4.004     0       0.0364      0.001360   \n",
       "2         0.551   0.386    9    -8.958     0       0.0274      0.085600   \n",
       "3         0.602   0.849   11    -6.602     1       0.1000      0.636000   \n",
       "4         0.187   0.855   11    -4.316     0       0.0624      0.000531   \n",
       "\n",
       "   instrumentalness  liveness  valence    tempo            type  \\\n",
       "0          0.457000     0.114    0.282  105.150  audio_features   \n",
       "1          0.000715     0.110    0.899  116.794  audio_features   \n",
       "2          0.002260     0.133    0.379  142.047  audio_features   \n",
       "3          0.000032     0.663    0.340  112.071  audio_features   \n",
       "4          0.020400     0.361    0.257  160.892  audio_features   \n",
       "\n",
       "                       id                                   uri  \\\n",
       "0  3NsalxTTrWTFPnIrUjl3Ze  spotify:track:3NsalxTTrWTFPnIrUjl3Ze   \n",
       "1  1D3YGmST01Ba0WRiT7THPG  spotify:track:1D3YGmST01Ba0WRiT7THPG   \n",
       "2  4yzozDNjvW7acuGonXwfvA  spotify:track:4yzozDNjvW7acuGonXwfvA   \n",
       "3  06hBdrgjUendZyH9U1WV22  spotify:track:06hBdrgjUendZyH9U1WV22   \n",
       "4  0MHHAIjPAd3OSfBS3H0fPg  spotify:track:0MHHAIjPAd3OSfBS3H0fPg   \n",
       "\n",
       "                                          track_href  \\\n",
       "0  https://api.spotify.com/v1/tracks/3NsalxTTrWTF...   \n",
       "1  https://api.spotify.com/v1/tracks/1D3YGmST01Ba...   \n",
       "2  https://api.spotify.com/v1/tracks/4yzozDNjvW7a...   \n",
       "3  https://api.spotify.com/v1/tracks/06hBdrgjUend...   \n",
       "4  https://api.spotify.com/v1/tracks/0MHHAIjPAd3O...   \n",
       "\n",
       "                                        analysis_url  duration_ms  \\\n",
       "0  https://api.spotify.com/v1/audio-analysis/3Nsa...       304160   \n",
       "1  https://api.spotify.com/v1/audio-analysis/1D3Y...       235587   \n",
       "2  https://api.spotify.com/v1/audio-analysis/4yzo...       214587   \n",
       "3  https://api.spotify.com/v1/audio-analysis/06hB...       295587   \n",
       "4  https://api.spotify.com/v1/audio-analysis/0MHH...       235400   \n",
       "\n",
       "   time_signature  \n",
       "0               3  \n",
       "1               4  \n",
       "2               4  \n",
       "3               4  \n",
       "4               3  "
      ]
     },
     "execution_count": 138,
     "metadata": {},
     "output_type": "execute_result"
    }
   ],
   "source": [
    "clock_df = pd.DataFrame(clock_dict['audio_features'])\n",
    "clock_df.head()"
   ]
  },
  {
   "cell_type": "markdown",
   "id": "24c13d83",
   "metadata": {},
   "source": [
    "Once I complete both data frames, I need to combine them in a CSV file. That way I can have a table that has the audio features for both albums."
   ]
  },
  {
   "cell_type": "code",
   "execution_count": 139,
   "id": "59782d86",
   "metadata": {},
   "outputs": [],
   "source": [
    "lights_df['album'] = ['Bright Lights'] * len(lights_df.index)"
   ]
  },
  {
   "cell_type": "code",
   "execution_count": 140,
   "id": "f59ac43f",
   "metadata": {},
   "outputs": [],
   "source": [
    "clock_df['album'] = ['Clockwork'] * len(clock_df.index)"
   ]
  },
  {
   "cell_type": "code",
   "execution_count": 141,
   "id": "31a66d72",
   "metadata": {},
   "outputs": [],
   "source": [
    "audio_features = pd.concat([lights_df, clock_df])"
   ]
  },
  {
   "cell_type": "code",
   "execution_count": 142,
   "id": "415f387c",
   "metadata": {},
   "outputs": [],
   "source": [
    "audio_features.to_csv('audio_features2.csv')"
   ]
  },
  {
   "cell_type": "markdown",
   "id": "cafcf36b",
   "metadata": {},
   "source": [
    "First five rows of the CSV."
   ]
  },
  {
   "cell_type": "code",
   "execution_count": 143,
   "id": "fcc142e5",
   "metadata": {},
   "outputs": [
    {
     "data": {
      "text/html": [
       "<div>\n",
       "<style scoped>\n",
       "    .dataframe tbody tr th:only-of-type {\n",
       "        vertical-align: middle;\n",
       "    }\n",
       "\n",
       "    .dataframe tbody tr th {\n",
       "        vertical-align: top;\n",
       "    }\n",
       "\n",
       "    .dataframe thead th {\n",
       "        text-align: right;\n",
       "    }\n",
       "</style>\n",
       "<table border=\"1\" class=\"dataframe\">\n",
       "  <thead>\n",
       "    <tr style=\"text-align: right;\">\n",
       "      <th></th>\n",
       "      <th>Unnamed: 0</th>\n",
       "      <th>danceability</th>\n",
       "      <th>energy</th>\n",
       "      <th>key</th>\n",
       "      <th>loudness</th>\n",
       "      <th>mode</th>\n",
       "      <th>speechiness</th>\n",
       "      <th>acousticness</th>\n",
       "      <th>instrumentalness</th>\n",
       "      <th>liveness</th>\n",
       "      <th>valence</th>\n",
       "      <th>tempo</th>\n",
       "      <th>type</th>\n",
       "      <th>id</th>\n",
       "      <th>uri</th>\n",
       "      <th>track_href</th>\n",
       "      <th>analysis_url</th>\n",
       "      <th>duration_ms</th>\n",
       "      <th>time_signature</th>\n",
       "      <th>album</th>\n",
       "    </tr>\n",
       "  </thead>\n",
       "  <tbody>\n",
       "    <tr>\n",
       "      <th>0</th>\n",
       "      <td>0</td>\n",
       "      <td>0.174</td>\n",
       "      <td>0.794</td>\n",
       "      <td>8</td>\n",
       "      <td>-5.336</td>\n",
       "      <td>1</td>\n",
       "      <td>0.0314</td>\n",
       "      <td>0.002170</td>\n",
       "      <td>0.7330</td>\n",
       "      <td>0.0786</td>\n",
       "      <td>0.0976</td>\n",
       "      <td>91.665</td>\n",
       "      <td>audio_features</td>\n",
       "      <td>2ZgyzFYYOz21b2AhPPkWKF</td>\n",
       "      <td>spotify:track:2ZgyzFYYOz21b2AhPPkWKF</td>\n",
       "      <td>https://api.spotify.com/v1/tracks/2ZgyzFYYOz21...</td>\n",
       "      <td>https://api.spotify.com/v1/audio-analysis/2Zgy...</td>\n",
       "      <td>236707</td>\n",
       "      <td>4</td>\n",
       "      <td>Bright Lights</td>\n",
       "    </tr>\n",
       "    <tr>\n",
       "      <th>1</th>\n",
       "      <td>1</td>\n",
       "      <td>0.377</td>\n",
       "      <td>0.938</td>\n",
       "      <td>5</td>\n",
       "      <td>-4.900</td>\n",
       "      <td>1</td>\n",
       "      <td>0.0618</td>\n",
       "      <td>0.000052</td>\n",
       "      <td>0.5800</td>\n",
       "      <td>0.0705</td>\n",
       "      <td>0.3850</td>\n",
       "      <td>120.514</td>\n",
       "      <td>audio_features</td>\n",
       "      <td>1ZBqJilDGBVYktvlCEo9jC</td>\n",
       "      <td>spotify:track:1ZBqJilDGBVYktvlCEo9jC</td>\n",
       "      <td>https://api.spotify.com/v1/tracks/1ZBqJilDGBVY...</td>\n",
       "      <td>https://api.spotify.com/v1/audio-analysis/1ZBq...</td>\n",
       "      <td>251293</td>\n",
       "      <td>4</td>\n",
       "      <td>Bright Lights</td>\n",
       "    </tr>\n",
       "    <tr>\n",
       "      <th>2</th>\n",
       "      <td>2</td>\n",
       "      <td>0.167</td>\n",
       "      <td>0.759</td>\n",
       "      <td>5</td>\n",
       "      <td>-5.059</td>\n",
       "      <td>1</td>\n",
       "      <td>0.0333</td>\n",
       "      <td>0.013300</td>\n",
       "      <td>0.0629</td>\n",
       "      <td>0.1100</td>\n",
       "      <td>0.2840</td>\n",
       "      <td>148.646</td>\n",
       "      <td>audio_features</td>\n",
       "      <td>4PAR0Zp6Mbu3p6NKYClgBr</td>\n",
       "      <td>spotify:track:4PAR0Zp6Mbu3p6NKYClgBr</td>\n",
       "      <td>https://api.spotify.com/v1/tracks/4PAR0Zp6Mbu3...</td>\n",
       "      <td>https://api.spotify.com/v1/audio-analysis/4PAR...</td>\n",
       "      <td>259733</td>\n",
       "      <td>3</td>\n",
       "      <td>Bright Lights</td>\n",
       "    </tr>\n",
       "    <tr>\n",
       "      <th>3</th>\n",
       "      <td>3</td>\n",
       "      <td>0.237</td>\n",
       "      <td>0.911</td>\n",
       "      <td>6</td>\n",
       "      <td>-5.833</td>\n",
       "      <td>0</td>\n",
       "      <td>0.0708</td>\n",
       "      <td>0.000021</td>\n",
       "      <td>0.8770</td>\n",
       "      <td>0.0935</td>\n",
       "      <td>0.2470</td>\n",
       "      <td>138.227</td>\n",
       "      <td>audio_features</td>\n",
       "      <td>286mFeYjBJ9fkioaIzaxoN</td>\n",
       "      <td>spotify:track:286mFeYjBJ9fkioaIzaxoN</td>\n",
       "      <td>https://api.spotify.com/v1/tracks/286mFeYjBJ9f...</td>\n",
       "      <td>https://api.spotify.com/v1/audio-analysis/286m...</td>\n",
       "      <td>299773</td>\n",
       "      <td>4</td>\n",
       "      <td>Bright Lights</td>\n",
       "    </tr>\n",
       "    <tr>\n",
       "      <th>4</th>\n",
       "      <td>4</td>\n",
       "      <td>0.318</td>\n",
       "      <td>0.879</td>\n",
       "      <td>9</td>\n",
       "      <td>-5.651</td>\n",
       "      <td>0</td>\n",
       "      <td>0.0375</td>\n",
       "      <td>0.000035</td>\n",
       "      <td>0.9280</td>\n",
       "      <td>0.0904</td>\n",
       "      <td>0.3000</td>\n",
       "      <td>102.921</td>\n",
       "      <td>audio_features</td>\n",
       "      <td>1I3XuGIh2qluBSUknDyA62</td>\n",
       "      <td>spotify:track:1I3XuGIh2qluBSUknDyA62</td>\n",
       "      <td>https://api.spotify.com/v1/tracks/1I3XuGIh2qlu...</td>\n",
       "      <td>https://api.spotify.com/v1/audio-analysis/1I3X...</td>\n",
       "      <td>268333</td>\n",
       "      <td>4</td>\n",
       "      <td>Bright Lights</td>\n",
       "    </tr>\n",
       "  </tbody>\n",
       "</table>\n",
       "</div>"
      ],
      "text/plain": [
       "   Unnamed: 0  danceability  energy  key  loudness  mode  speechiness  \\\n",
       "0           0         0.174   0.794    8    -5.336     1       0.0314   \n",
       "1           1         0.377   0.938    5    -4.900     1       0.0618   \n",
       "2           2         0.167   0.759    5    -5.059     1       0.0333   \n",
       "3           3         0.237   0.911    6    -5.833     0       0.0708   \n",
       "4           4         0.318   0.879    9    -5.651     0       0.0375   \n",
       "\n",
       "   acousticness  instrumentalness  liveness  valence    tempo            type  \\\n",
       "0      0.002170            0.7330    0.0786   0.0976   91.665  audio_features   \n",
       "1      0.000052            0.5800    0.0705   0.3850  120.514  audio_features   \n",
       "2      0.013300            0.0629    0.1100   0.2840  148.646  audio_features   \n",
       "3      0.000021            0.8770    0.0935   0.2470  138.227  audio_features   \n",
       "4      0.000035            0.9280    0.0904   0.3000  102.921  audio_features   \n",
       "\n",
       "                       id                                   uri  \\\n",
       "0  2ZgyzFYYOz21b2AhPPkWKF  spotify:track:2ZgyzFYYOz21b2AhPPkWKF   \n",
       "1  1ZBqJilDGBVYktvlCEo9jC  spotify:track:1ZBqJilDGBVYktvlCEo9jC   \n",
       "2  4PAR0Zp6Mbu3p6NKYClgBr  spotify:track:4PAR0Zp6Mbu3p6NKYClgBr   \n",
       "3  286mFeYjBJ9fkioaIzaxoN  spotify:track:286mFeYjBJ9fkioaIzaxoN   \n",
       "4  1I3XuGIh2qluBSUknDyA62  spotify:track:1I3XuGIh2qluBSUknDyA62   \n",
       "\n",
       "                                          track_href  \\\n",
       "0  https://api.spotify.com/v1/tracks/2ZgyzFYYOz21...   \n",
       "1  https://api.spotify.com/v1/tracks/1ZBqJilDGBVY...   \n",
       "2  https://api.spotify.com/v1/tracks/4PAR0Zp6Mbu3...   \n",
       "3  https://api.spotify.com/v1/tracks/286mFeYjBJ9f...   \n",
       "4  https://api.spotify.com/v1/tracks/1I3XuGIh2qlu...   \n",
       "\n",
       "                                        analysis_url  duration_ms  \\\n",
       "0  https://api.spotify.com/v1/audio-analysis/2Zgy...       236707   \n",
       "1  https://api.spotify.com/v1/audio-analysis/1ZBq...       251293   \n",
       "2  https://api.spotify.com/v1/audio-analysis/4PAR...       259733   \n",
       "3  https://api.spotify.com/v1/audio-analysis/286m...       299773   \n",
       "4  https://api.spotify.com/v1/audio-analysis/1I3X...       268333   \n",
       "\n",
       "   time_signature          album  \n",
       "0               4  Bright Lights  \n",
       "1               4  Bright Lights  \n",
       "2               3  Bright Lights  \n",
       "3               4  Bright Lights  \n",
       "4               4  Bright Lights  "
      ]
     },
     "execution_count": 143,
     "metadata": {},
     "output_type": "execute_result"
    }
   ],
   "source": [
    "af = pd.read_csv('audio_features2.csv', sep = ',')\n",
    "af.head()"
   ]
  },
  {
   "cell_type": "markdown",
   "id": "f713ba48",
   "metadata": {},
   "source": [
    "Now I need to plot a few graphs in order to compare the danceability and valence of both albums. The first plots I made are two histograms, one comparing the danceability of both albums, and the other comparing the valence of both albums. What I found was that there are tracks on Like Clockwork that have a higher danceability than the tracks on TOTBL, while the majority of tracks on both albums combined have a relatively low valence. Since the danceability on both albums never go past 0.6, this could mean that both albums are perceived as only partially danceable. What's interesting is that there's one song on Like Clockwork that has a very high valence, but the rest of the album has a much lower valence in comparison. This means that there's one song off the album that evokes a very positive emotion. What exactly that emotion is up for interpretation but that song stands out among the rest of the album in terms of valence."
   ]
  },
  {
   "cell_type": "code",
   "execution_count": 144,
   "id": "cd6d53d9",
   "metadata": {},
   "outputs": [
    {
     "data": {
      "image/png": "[encoded data removed]",
      "text/plain": [
       "<Figure size 432x288 with 1 Axes>"
      ]
     },
     "metadata": {
      "needs_background": "light"
     },
     "output_type": "display_data"
    },
    {
     "data": {
      "image/png": "[encoded data removed]",
      "text/plain": [
       "<Figure size 432x288 with 1 Axes>"
      ]
     },
     "metadata": {
      "needs_background": "light"
     },
     "output_type": "display_data"
    }
   ],
   "source": [
    "fig1, ax1 = plt.subplots()\n",
    "tc = af[af['album'] == 'Bright Lights']['danceability']\n",
    "htg = af[af['album'] == 'Clockwork']['danceability']\n",
    "ax1.hist(tc, alpha = 0.5, color = 'black', label = 'Turn on the Bright Lights')\n",
    "ax1.hist(htg, alpha = 0.5, color = 'red', label = 'Like Clockwork')\n",
    "plt.xlabel('Danceability')\n",
    "plt.ylabel('Tracks')\n",
    "ax1.legend()\n",
    "plt.show()\n",
    "\n",
    "fig1, ax1 = plt.subplots()\n",
    "tc = af[af['album'] == 'Bright Lights']['valence']\n",
    "htg = af[af['album'] == 'Clockwork']['valence']\n",
    "ax1.hist(tc, alpha = 0.5, color = 'black', label = 'Turn on the Bright Lights')\n",
    "ax1.hist(htg, alpha = 0.5, color = 'red', label = 'Like Clockwork')\n",
    "plt.xlabel('Valence')\n",
    "plt.ylabel('Tracks')\n",
    "ax1.legend()\n",
    "plt.show()"
   ]
  },
  {
   "cell_type": "markdown",
   "id": "cacf4700",
   "metadata": {},
   "source": [
    "The next thing I made were two scatter plots, one showing the relationship between danceability and valence for TOTBL, and the other showing the same thing but for Like Clockwork."
   ]
  },
  {
   "cell_type": "code",
   "execution_count": 145,
   "id": "7cbb78e3",
   "metadata": {},
   "outputs": [
    {
     "data": {
      "image/png": "[encoded data removed]",
      "text/plain": [
       "<Figure size 432x288 with 1 Axes>"
      ]
     },
     "metadata": {
      "needs_background": "light"
     },
     "output_type": "display_data"
    },
    {
     "data": {
      "image/png": "[encoded data removed]",
      "text/plain": [
       "<Figure size 432x288 with 1 Axes>"
      ]
     },
     "metadata": {
      "needs_background": "light"
     },
     "output_type": "display_data"
    }
   ],
   "source": [
    "fig1, ax1 = plt.subplots()\n",
    "lights_df = af[af['album'] == 'Bright Lights']\n",
    "ax1.scatter(lights_df['danceability'], lights_df['valence'], label = 'Turn on the Bright Lights', color = 'black')\n",
    "ax1.set_xlabel('Danceability')\n",
    "ax1.set_ylabel('Valence')\n",
    "ax1.set_title('Danceability vs. Valence in TOTBL')\n",
    "ax1.legend()\n",
    "plt.show()\n",
    "\n",
    "fig1, ax1 = plt.subplots()\n",
    "clock_df = af[af['album'] == 'Clockwork']\n",
    "ax1.scatter(clock_df['danceability'], clock_df['valence'], label = 'Like Clockwork', color = 'red')\n",
    "ax1.set_xlabel('Danceability')\n",
    "ax1.set_ylabel('Valence')\n",
    "ax1.set_title('Danceability vs. Valence in Like Clockwork')\n",
    "ax1.legend()\n",
    "plt.show()"
   ]
  },
  {
   "cell_type": "markdown",
   "id": "4ba130fc",
   "metadata": {},
   "source": [
    "I then combined the two scatter plots into one figure in order to compare both sets of data. It looks like TOTBL has a more consistent relationship between the two audio features due to the points rising in a more diagonal direction. In comparison, Like Clockwork seems to fluctuate more often in terms of the danceability and valence. For example, I see none of the songs in Like Clockwork land between 0.2 and 0.4 on the x-axis. This could mean that there's a large jump in danceability when listening to the album.\n",
    "\n",
    "If there's one thing about the figure that I could improve to better show the differences, then I guess it would be nice to find a way to show which songs belong to which point. Going by the scatter plot, I'm not sure if the points are placed in the same order as the track listings. If the order is different, then showing which point represents which song could help determine when the albums start to become danceable and when they start to have a high valence. I'd be really curious to see which song on Like Clockwork has a valence of 0.9, because that is much higher than the rest of the songs."
   ]
  },
  {
   "cell_type": "code",
   "execution_count": 146,
   "id": "111c9f8d",
   "metadata": {
    "scrolled": true
   },
   "outputs": [
    {
     "data": {
      "image/png": "[encoded data removed]",
      "text/plain": [
       "<Figure size 432x288 with 1 Axes>"
      ]
     },
     "metadata": {
      "needs_background": "light"
     },
     "output_type": "display_data"
    }
   ],
   "source": [
    "fig1, ax1 = plt.subplots()\n",
    "lights_df = af[af['album'] == 'Bright Lights']\n",
    "clock_df = af[af['album'] == 'Clockwork']\n",
    "ax1.scatter(lights_df['danceability'], lights_df['valence'], label = 'Turn on the Bright Lights', color = 'black')\n",
    "ax1.scatter(clock_df['danceability'], clock_df['valence'], label = 'Like Clockwork', color = 'red')\n",
    "ax1.set_xlabel('Danceability')\n",
    "ax1.set_ylabel('Valence')\n",
    "ax1.set_title('Danceability vs. Valence')\n",
    "ax1.legend()\n",
    "plt.show()"
   ]
  },
  {
   "cell_type": "markdown",
   "id": "37566277",
   "metadata": {},
   "source": [
    "The last figure I made is a box plot comparing the valence of both albums. I had to really stretch the height of the scatter plot to make the points easier to see. That one song in Like Clockwork is still the biggest outlier, landing at 0.9 while the rest of the songs on the album is below 0.5 and lands on the actual box and whisker plot. Outside of that outlier, it looks like the box plot for Like Clockwork is more condensed compared to the box plot for TOTBL, which is slightly more spread out. The only thing that confuses me are the white dots that are right next to both outliers. I'm not sure what those mean and I'm not sure if their supposed to be part of the figure."
   ]
  },
  {
   "cell_type": "code",
   "execution_count": 147,
   "id": "2ca9f4ce",
   "metadata": {
    "scrolled": false
   },
   "outputs": [
    {
     "data": {
      "image/png": "[encoded data removed]",
      "text/plain": [
       "<Figure size 432x720 with 1 Axes>"
      ]
     },
     "metadata": {
      "needs_background": "light"
     },
     "output_type": "display_data"
    }
   ],
   "source": [
    "fig2, ax2 = plt.subplots()\n",
    "lights_val = af[af['album'] == 'Bright Lights']['valence']\n",
    "clock_val = af[af['album'] == 'Clockwork']['valence']\n",
    "lights_x = [1] * len(lights_val)\n",
    "clock_x = [2] * len(clock_val)\n",
    "lights_x_jitter = np.random.uniform(-0.10, 0.10, len(lights_x))\n",
    "clock_x_jitter = np.random.uniform(-0.10, 0.10, len(clock_x))\n",
    "ax2.scatter(lights_x + lights_x_jitter, lights_val, alpha = 0.5, color = 'black')\n",
    "ax2.scatter(clock_x + clock_x_jitter, clock_val, alpha = 0.5, color = 'red')\n",
    "ax2.set_xlim(0.5, 2.5)\n",
    "fig2.set_figheight(10)\n",
    "ax2.boxplot([lights_val, clock_val])\n",
    "ax2.set_xticks([1, 2], ['TOTBL', 'Like Clockwork'])\n",
    "plt.show()"
   ]
  },
  {
   "cell_type": "markdown",
   "id": "0d9bc790",
   "metadata": {},
   "source": [
    "The final step for part 2 is for me to use the ttest_ind() function to test the statistical differences between the valence of both albums. What I got was the statistic score to be -0.27 and the p-value to be 0.79. Since the p-value is a lot higher than 0.05, this tells me that the results are not statistically significant, meaning that there isn't a big difference between the valence of both albums."
   ]
  },
  {
   "cell_type": "code",
   "execution_count": 148,
   "id": "3d055ad1",
   "metadata": {},
   "outputs": [
    {
     "data": {
      "text/plain": [
       "Ttest_indResult(statistic=-0.2698153365106628, pvalue=0.7902110259076978)"
      ]
     },
     "execution_count": 148,
     "metadata": {},
     "output_type": "execute_result"
    }
   ],
   "source": [
    "stats.ttest_ind(lights_val, clock_val)"
   ]
  }
 ],
 "metadata": {
  "kernelspec": {
   "display_name": "Python 3 (ipykernel)",
   "language": "python",
   "name": "python3"
  },
  "language_info": {
   "codemirror_mode": {
    "name": "ipython",
    "version": 3
   },
   "file_extension": ".py",
   "mimetype": "text/x-python",
   "name": "python",
   "nbconvert_exporter": "python",
   "pygments_lexer": "ipython3",
   "version": "3.10.4"
  }
 },
 "nbformat": 4,
 "nbformat_minor": 5
}
